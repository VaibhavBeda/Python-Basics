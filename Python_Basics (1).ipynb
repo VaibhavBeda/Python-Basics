{
  "nbformat": 4,
  "nbformat_minor": 0,
  "metadata": {
    "colab": {
      "provenance": []
    },
    "kernelspec": {
      "name": "python3",
      "display_name": "Python 3"
    },
    "language_info": {
      "name": "python"
    }
  },
  "cells": [
    {
      "cell_type": "code",
      "execution_count": null,
      "metadata": {
        "id": "N6C_ZtHamEfj"
      },
      "outputs": [],
      "source": [
        "#1 What is Python and why is it popular?\n",
        "\"\"\"\n",
        "Pyhton is a high-level programming language widely known because of it is easy\n",
        " to read and really vrsatile.\n",
        "\"\"\"\n",
        "\n",
        "#2 What is interpreter in python?\n",
        "'''\n",
        "A interpeter in python is a program that reads and executes python code line by\n",
        " line. This process happens in real time, what it means is we see the result of\n",
        "  our code immediately.\n",
        "\n",
        "'''\n",
        "\n",
        "#3 What are pre-defined keywords in Python?\n",
        "'''\n",
        "Pre-defined keywords in python are words those already have a defined job.\n",
        " For example Print is a keyword in python whose job is to print anyhting that\n",
        " we mention after it .\n",
        "'''\n",
        "\n",
        "#4 Can keywords be used as variable names?\n",
        "'''\n",
        "No keywords in python cannot be used as variables as I said in previous answer\n",
        "\n",
        "keywords have a pre-defined meaning. And if you try to use keywords as variables\n",
        "  it will give an error.\n",
        "'''\n",
        "\n",
        "#5 What is mutability in Python ?\n",
        "'''\n",
        "Mutability in python refers to the ability of an object to be modified after it\n",
        "is created.\n",
        "'''\n",
        "\n",
        "#6 Why are lists mutable, but tuples are immutable ?\n",
        "'''\n",
        " Suppose you write a method that depends on a particular sequence of objects\n",
        " remaining the same throughout the lifetime of the code. If you store these\n",
        " objects in a list, there is a chance that some other method using the list\n",
        "  will accidentally alter it and thus break your method. Thus, in a way,\n",
        "  a tuple offers a guarantee that a particular collection of objects will\n",
        "   remain fixed.\n",
        " '''\n",
        "\n",
        " #7 What is the difference between “==” and “is” operators in Python ?\n",
        " '''\n",
        " The '==' operator chechks for equality of value while the 'is' operator checks\n",
        " for identity. If I have define it further '==' operator evaliuates wether the\n",
        " values of two objects are equal, while 'is' operator evaluates wether two\n",
        " variables refer to same object in memory addresses of objects.\n",
        " '''\n",
        "\n",
        "#8 What are logical operators in Python ?\n",
        "'''\n",
        "Logical opeerators in Python are used to combinre or modify conditional\n",
        "statements operating on boolean values {True or False} and returning a Boolean\n",
        "result.For example 'And' opreator returns if both operands are True , otherwise\n",
        "returns False while 'OR' operator returns True if atleast one of the operands\n",
        "is True , returns False only if both are False and furthermore 'Not' returns\n",
        " opposite Boolean value of operand. If the operands is True it returns False and\n",
        " if its False it returns True.\n",
        "\n",
        "'''\n",
        "\n",
        "#9 What is type casting in Python ?\n",
        "'''\n",
        "Type casting in python refer to the process of changing a variables data type.\n",
        "Its useful for ensuring compatibility between different types and perfroming\n",
        "operations that would otherwise be impossible. There two types of type casting\n",
        "in pyhton one is Implicit type casting and the second one is explicit type\n",
        "casting .\n",
        "\n",
        "'''\n",
        "\n",
        "#10 What is the difference between implicit and explicit type casting?\n",
        "'''\n",
        "In the implicit type casting the Python interpreter automatically converts\n",
        "one data type to another without any user involvement.\n",
        "Usually happens when performing opereations on differernt data types.\n",
        "Python converts the smALLER data type to a larger dAta type to prevent data loss.\n",
        "Example of implicit data type casting would be when we add an integer and a float\n",
        "python implicitly converts the integer into a float before performing the addition\n",
        "resulting in a Float output.\n",
        "'''\n",
        "\n",
        "#11 What is the purpose of conditional statements in Python\n",
        "'''\n",
        "Conditional statements in Python enable programms to make decisions and execute\n",
        "different code blocks based on wether specific conditions are met.The primary\n",
        "purpose of conditional statements is to create flexible and adaptable code.\n",
        "\n",
        "The main types of conditional statements are :\n",
        "- If Statement:- Executes a block of code only if a specified conditon is met.\n",
        "- IF-Else Statement:- Executes one block of code if the condition is TRUE and\n",
        "another if the conditions is FALSE .\n",
        "- If-Elif Statement:- Allows for multiple conditions to be checked in sequence.\n",
        "If the initial 'if' condition is false it checks the 'elif' conditons and if\n",
        "none are true it executes the 'else' block.\n",
        "\n",
        "\n",
        "'''\n",
        "\n",
        "#12  How does the elif statement work ?\n",
        "'''\n",
        "The elif statement in Python is used in conjunction with if and optionally else\n",
        "to create a chain of conditional checks. It allows for multiple conditions to\n",
        "be evaluated sequentially. If the initial if condition is false, the\n",
        "interpreter checks the elif conditions in order. If an elif condition is\n",
        "true, its corresponding block of code is executed, and the rest of the elif\n",
        "and else blocks are skipped. If none of the if or elif conditions are true,\n",
        "and an else block is present, the code within the else block is executed.\n",
        "'''\n",
        "\n",
        "#13 What is the difference between for and while loops ?\n",
        "'''\n",
        "The primary difference between for and while loops lies in when the number of\n",
        "iterations is known beforehand. for loops are best suited for situations where\n",
        "you know exactly how many times the loop will execute, often when iterating over\n",
        " a collection or sequence. while loops, on the other hand, are more flexible\n",
        " and used when the number of iterations is unknown and depends on a dynamic\n",
        " condition.In another words in For loop the number of times the number of times\n",
        " the loop will run is determined before the loop starts, for example - printing\n",
        " numbers from 1 to 10, on the other hand in While loop the number of iterations\n",
        " depends on the condition given that can change during the loops execution, for\n",
        " example- reading input from a user until a specific keyword is entered.\n",
        "'''\n",
        "\n",
        "#14 Describe a scenario where a while loop is more suitable than a for loop ?\n",
        "'''\n",
        "In contrast to a 'for' loop, which is generally used when the number of\n",
        "iterations is known beforehand, a 'while' loop is ideal for situations where\n",
        " the number of iterations is not predetermined and depends on some dynamic\n",
        "  condition.\n",
        "'''\n"
      ]
    },
    {
      "cell_type": "code",
      "source": [
        "#1 Write a Python program to print \"Hello, World!\"\n",
        "print(\"HELLO WORLD\")\n"
      ],
      "metadata": {
        "colab": {
          "base_uri": "https://localhost:8080/"
        },
        "id": "T1AcT3P8ERVs",
        "outputId": "56850c6b-ae05-46e9-a971-abd854edcf55"
      },
      "execution_count": null,
      "outputs": [
        {
          "output_type": "stream",
          "name": "stdout",
          "text": [
            "HELLO WORLD\n"
          ]
        }
      ]
    },
    {
      "cell_type": "code",
      "source": [
        "#2 Write a Python program that displays your name and age ?\n",
        "print(\"Name:[Vaibhav Beda], Age:[28]\")"
      ],
      "metadata": {
        "colab": {
          "base_uri": "https://localhost:8080/"
        },
        "id": "fwCUxXhkE5US",
        "outputId": "db5b6a03-397e-44cc-c8fb-9d760085ce13"
      },
      "execution_count": null,
      "outputs": [
        {
          "output_type": "stream",
          "name": "stdout",
          "text": [
            "Name:[Vaibhav Beda], Age:[28]\n"
          ]
        }
      ]
    },
    {
      "cell_type": "code",
      "source": [
        "#3 Write code to print all the pre-defined keywords in Python using the keyword library ?\n",
        "import keyword\n",
        "print(keyword.kwlist)"
      ],
      "metadata": {
        "colab": {
          "base_uri": "https://localhost:8080/"
        },
        "id": "ZdOL0DY0F6KV",
        "outputId": "7a6ab649-3003-42ef-a638-19a927291cee"
      },
      "execution_count": null,
      "outputs": [
        {
          "output_type": "stream",
          "name": "stdout",
          "text": [
            "['False', 'None', 'True', 'and', 'as', 'assert', 'async', 'await', 'break', 'class', 'continue', 'def', 'del', 'elif', 'else', 'except', 'finally', 'for', 'from', 'global', 'if', 'import', 'in', 'is', 'lambda', 'nonlocal', 'not', 'or', 'pass', 'raise', 'return', 'try', 'while', 'with', 'yield']\n"
          ]
        }
      ]
    },
    {
      "cell_type": "code",
      "source": [
        "#4 Write a program that checks if a given word is a Python keyword.\n",
        "import keyword\n",
        "\n",
        "s = 'for'\n",
        "\n",
        "# Check if it's a Python keyword\n",
        "if keyword.iskeyword(s):\n",
        "    print(f\"'{s}' is a Python keyword.\")\n",
        "else:\n",
        "    print(f\"'{s}' is not a Python keyword.\")\n"
      ],
      "metadata": {
        "colab": {
          "base_uri": "https://localhost:8080/"
        },
        "id": "5oID7SJkDA-r",
        "outputId": "f39d9d8f-f9aa-49d6-a822-2b117d3adfcc"
      },
      "execution_count": null,
      "outputs": [
        {
          "output_type": "stream",
          "name": "stdout",
          "text": [
            "'for' is a Python keyword.\n"
          ]
        }
      ]
    },
    {
      "cell_type": "code",
      "source": [
        "#5 Create a list and tuple in Python, and demonstrate how attempting to change an element works differently for each.\n",
        "a = [1, 2, 3]\n",
        "b = ['apple', 'orange', 'cherry']\n",
        "\n",
        "res = list(zip(a, b))\n",
        "\n",
        "print(res)\n",
        "\n"
      ],
      "metadata": {
        "colab": {
          "base_uri": "https://localhost:8080/"
        },
        "id": "zegiKgM1EFQW",
        "outputId": "05be3f29-e38e-4d69-d387-83a0051c9d52"
      },
      "execution_count": null,
      "outputs": [
        {
          "output_type": "stream",
          "name": "stdout",
          "text": [
            "[(1, 'apple'), (2, 'orange'), (3, 'cherry')]\n"
          ]
        }
      ]
    },
    {
      "cell_type": "code",
      "source": [
        "#6 Write a function to demonstrate the behavior of mutable and immutable arguments.\n",
        " Dont know the answer to this one\n"
      ],
      "metadata": {
        "id": "HvLOnjNBEj4T"
      },
      "execution_count": null,
      "outputs": []
    },
    {
      "cell_type": "code",
      "source": [
        "#7 Write a program that performs basic arithmetic operations on two user-input numbers\n",
        "\n",
        "a = 15\n",
        "b = 12\n",
        "\n",
        "\n",
        "res = a + b\n",
        "print(res)"
      ],
      "metadata": {
        "colab": {
          "base_uri": "https://localhost:8080/"
        },
        "id": "AxWGLkG0E94N",
        "outputId": "8b39ee6c-c928-4221-bb32-9749d5167d64"
      },
      "execution_count": null,
      "outputs": [
        {
          "output_type": "stream",
          "name": "stdout",
          "text": [
            "27\n"
          ]
        }
      ]
    },
    {
      "cell_type": "code",
      "source": [
        "#8 Write a program to demonstrate the use of logical operators.\n",
        "\n",
        "a = 10\n",
        "b = 10\n",
        "c = -10\n",
        "if a > 0 and b > 0:\n",
        "    print(\"The numbers are greater than 0\")\n",
        "    if a > 0 and b > 0 and c > 0:\n",
        "        print(\"The numbers are greater than 0\")\n",
        "else:\n",
        "            print(\"Atleast one number is not greater than 0\")"
      ],
      "metadata": {
        "colab": {
          "base_uri": "https://localhost:8080/"
        },
        "id": "UVdWFZsVFsjm",
        "outputId": "34d7f650-8d41-4844-9744-2b45db73140f"
      },
      "execution_count": null,
      "outputs": [
        {
          "output_type": "stream",
          "name": "stdout",
          "text": [
            "The numbers are greater than 0\n"
          ]
        }
      ]
    },
    {
      "cell_type": "code",
      "source": [
        "#9 Write a Python program to convert user input from string to integer, float, and boolean types.\n",
        "\n",
        "Dont know the ANSWER to this question"
      ],
      "metadata": {
        "id": "3SiQHHuZGNT8"
      },
      "execution_count": null,
      "outputs": []
    },
    {
      "cell_type": "code",
      "source": [
        "#10 Write code to demonstrate type casting with list elements.\n",
        "\n",
        "a = [1, 4, 9, 10, 19]\n",
        "b = [[5, 6, 8], [8, 5, 3], [9, 10, 3]]\n",
        "\n",
        "c = [str(x) for x in a]\n",
        "d = [[str(x) for x in sub] for sub in b]\n",
        "\n",
        "print(c)\n",
        "print(d)\n"
      ],
      "metadata": {
        "colab": {
          "base_uri": "https://localhost:8080/"
        },
        "id": "SiqWGWNAGoDc",
        "outputId": "56dced80-0233-439f-e990-d4abeec5a7b9"
      },
      "execution_count": null,
      "outputs": [
        {
          "output_type": "stream",
          "name": "stdout",
          "text": [
            "['1', '4', '9', '10', '19']\n",
            "[['5', '6', '8'], ['8', '5', '3'], ['9', '10', '3']]\n"
          ]
        }
      ]
    },
    {
      "cell_type": "code",
      "source": [
        "#12 Write a for loop to print numbers from 1 to 10\n",
        "\n",
        "for i in range(1,11):\n",
        "   print(i)"
      ],
      "metadata": {
        "colab": {
          "base_uri": "https://localhost:8080/"
        },
        "id": "FlZG40NuI1Bu",
        "outputId": "fb4f6fe3-f0cc-49ae-bea5-3c7ca5009c3a"
      },
      "execution_count": null,
      "outputs": [
        {
          "output_type": "stream",
          "name": "stdout",
          "text": [
            "1\n",
            "2\n",
            "3\n",
            "4\n",
            "5\n",
            "6\n",
            "7\n",
            "8\n",
            "9\n",
            "10\n"
          ]
        }
      ]
    },
    {
      "cell_type": "code",
      "source": [
        "#13 Write a Python program to find the sum of all even numbers between 1 and 50\n",
        "\n",
        "for i in range (0,50):\n",
        "      if i%2==0:\n",
        "              result =+ i\n",
        "print(result)"
      ],
      "metadata": {
        "colab": {
          "base_uri": "https://localhost:8080/"
        },
        "id": "tGD5NLI7Jc-P",
        "outputId": "e89d6ef1-8206-4e0d-ac60-ce170c5094cb"
      },
      "execution_count": null,
      "outputs": [
        {
          "output_type": "stream",
          "name": "stdout",
          "text": [
            "48\n"
          ]
        }
      ]
    },
    {
      "cell_type": "code",
      "source": [
        "#14 Write a program to reverse a string using a while loop\n",
        "\n",
        "name= str((input(\"Enter the name: \")))\n",
        "\n",
        "i = len(name)\n",
        "\n",
        "while i in range(len(name)) > 0:\n",
        "    print(name[i], end = '')\n",
        "i = i - 1"
      ],
      "metadata": {
        "colab": {
          "base_uri": "https://localhost:8080/",
          "height": 356
        },
        "id": "UXZm2MNkKf-h",
        "outputId": "95a46ea6-7405-4602-acf8-2ed8a844f101"
      },
      "execution_count": null,
      "outputs": [
        {
          "output_type": "error",
          "ename": "KeyboardInterrupt",
          "evalue": "Interrupted by user",
          "traceback": [
            "\u001b[0;31m---------------------------------------------------------------------------\u001b[0m",
            "\u001b[0;31mKeyboardInterrupt\u001b[0m                         Traceback (most recent call last)",
            "\u001b[0;32m<ipython-input-22-bf178c3d1ad9>\u001b[0m in \u001b[0;36m<cell line: 0>\u001b[0;34m()\u001b[0m\n\u001b[1;32m      1\u001b[0m \u001b[0;31m#14 Write a program to reverse a string using a while loop\u001b[0m\u001b[0;34m\u001b[0m\u001b[0;34m\u001b[0m\u001b[0m\n\u001b[1;32m      2\u001b[0m \u001b[0;34m\u001b[0m\u001b[0m\n\u001b[0;32m----> 3\u001b[0;31m \u001b[0mname\u001b[0m\u001b[0;34m=\u001b[0m \u001b[0mstr\u001b[0m\u001b[0;34m(\u001b[0m\u001b[0;34m(\u001b[0m\u001b[0minput\u001b[0m\u001b[0;34m(\u001b[0m\u001b[0;34m\"Enter the name: \"\u001b[0m\u001b[0;34m)\u001b[0m\u001b[0;34m)\u001b[0m\u001b[0;34m)\u001b[0m\u001b[0;34m\u001b[0m\u001b[0;34m\u001b[0m\u001b[0m\n\u001b[0m\u001b[1;32m      4\u001b[0m \u001b[0;34m\u001b[0m\u001b[0m\n\u001b[1;32m      5\u001b[0m \u001b[0mi\u001b[0m \u001b[0;34m=\u001b[0m \u001b[0mlen\u001b[0m\u001b[0;34m(\u001b[0m\u001b[0mname\u001b[0m\u001b[0;34m)\u001b[0m\u001b[0;34m\u001b[0m\u001b[0;34m\u001b[0m\u001b[0m\n",
            "\u001b[0;32m/usr/local/lib/python3.11/dist-packages/ipykernel/kernelbase.py\u001b[0m in \u001b[0;36mraw_input\u001b[0;34m(self, prompt)\u001b[0m\n\u001b[1;32m   1175\u001b[0m                 \u001b[0;34m\"raw_input was called, but this frontend does not support input requests.\"\u001b[0m\u001b[0;34m\u001b[0m\u001b[0;34m\u001b[0m\u001b[0m\n\u001b[1;32m   1176\u001b[0m             )\n\u001b[0;32m-> 1177\u001b[0;31m         return self._input_request(\n\u001b[0m\u001b[1;32m   1178\u001b[0m             \u001b[0mstr\u001b[0m\u001b[0;34m(\u001b[0m\u001b[0mprompt\u001b[0m\u001b[0;34m)\u001b[0m\u001b[0;34m,\u001b[0m\u001b[0;34m\u001b[0m\u001b[0;34m\u001b[0m\u001b[0m\n\u001b[1;32m   1179\u001b[0m             \u001b[0mself\u001b[0m\u001b[0;34m.\u001b[0m\u001b[0m_parent_ident\u001b[0m\u001b[0;34m[\u001b[0m\u001b[0;34m\"shell\"\u001b[0m\u001b[0;34m]\u001b[0m\u001b[0;34m,\u001b[0m\u001b[0;34m\u001b[0m\u001b[0;34m\u001b[0m\u001b[0m\n",
            "\u001b[0;32m/usr/local/lib/python3.11/dist-packages/ipykernel/kernelbase.py\u001b[0m in \u001b[0;36m_input_request\u001b[0;34m(self, prompt, ident, parent, password)\u001b[0m\n\u001b[1;32m   1217\u001b[0m             \u001b[0;32mexcept\u001b[0m \u001b[0mKeyboardInterrupt\u001b[0m\u001b[0;34m:\u001b[0m\u001b[0;34m\u001b[0m\u001b[0;34m\u001b[0m\u001b[0m\n\u001b[1;32m   1218\u001b[0m                 \u001b[0;31m# re-raise KeyboardInterrupt, to truncate traceback\u001b[0m\u001b[0;34m\u001b[0m\u001b[0;34m\u001b[0m\u001b[0m\n\u001b[0;32m-> 1219\u001b[0;31m                 \u001b[0;32mraise\u001b[0m \u001b[0mKeyboardInterrupt\u001b[0m\u001b[0;34m(\u001b[0m\u001b[0;34m\"Interrupted by user\"\u001b[0m\u001b[0;34m)\u001b[0m \u001b[0;32mfrom\u001b[0m \u001b[0;32mNone\u001b[0m\u001b[0;34m\u001b[0m\u001b[0;34m\u001b[0m\u001b[0m\n\u001b[0m\u001b[1;32m   1220\u001b[0m             \u001b[0;32mexcept\u001b[0m \u001b[0mException\u001b[0m\u001b[0;34m:\u001b[0m\u001b[0;34m\u001b[0m\u001b[0;34m\u001b[0m\u001b[0m\n\u001b[1;32m   1221\u001b[0m                 \u001b[0mself\u001b[0m\u001b[0;34m.\u001b[0m\u001b[0mlog\u001b[0m\u001b[0;34m.\u001b[0m\u001b[0mwarning\u001b[0m\u001b[0;34m(\u001b[0m\u001b[0;34m\"Invalid Message:\"\u001b[0m\u001b[0;34m,\u001b[0m \u001b[0mexc_info\u001b[0m\u001b[0;34m=\u001b[0m\u001b[0;32mTrue\u001b[0m\u001b[0;34m)\u001b[0m\u001b[0;34m\u001b[0m\u001b[0;34m\u001b[0m\u001b[0m\n",
            "\u001b[0;31mKeyboardInterrupt\u001b[0m: Interrupted by user"
          ]
        }
      ]
    },
    {
      "cell_type": "code",
      "source": [
        "#15 Write a Python program to calculate the factorial of a number provided by the user using a while loop\n",
        "\n",
        "factorial <- function(n) {\n",
        "    result <- 1\n",
        "while (n > 0) {\n",
        "    result <- result * n\n",
        "         n <- n - 1\n",
        "           }\n",
        "      return(result)\n",
        "      }\n",
        "\n",
        "   factorial(5)\n",
        "\n",
        "# tried several times but couldnt do it\n"
      ],
      "metadata": {
        "colab": {
          "base_uri": "https://localhost:8080/",
          "height": 106
        },
        "id": "_ExYIYplLCQQ",
        "outputId": "39f4d410-0853-42ed-9f9a-63f8fb70ddda"
      },
      "execution_count": null,
      "outputs": [
        {
          "output_type": "error",
          "ename": "SyntaxError",
          "evalue": "invalid syntax (<ipython-input-27-8013c2436b8c>, line 3)",
          "traceback": [
            "\u001b[0;36m  File \u001b[0;32m\"<ipython-input-27-8013c2436b8c>\"\u001b[0;36m, line \u001b[0;32m3\u001b[0m\n\u001b[0;31m    factorial <- function(n) {\u001b[0m\n\u001b[0m                             ^\u001b[0m\n\u001b[0;31mSyntaxError\u001b[0m\u001b[0;31m:\u001b[0m invalid syntax\n"
          ]
        }
      ]
    },
    {
      "cell_type": "code",
      "source": [
        "#11 Write a program that checks if a number is positive, negative, or zero.\n",
        "\n",
        "\n",
        "num = float(input(\"Enter a number: \"))\n",
        "if num > 0:\n",
        "   print(\"Positive number\")\n",
        "elif num == 0:\n",
        "   print(\"Zero\")\n",
        "else:\n",
        "   print(\"Negative number\")\n"
      ],
      "metadata": {
        "id": "A663iq2mG5S3"
      },
      "execution_count": null,
      "outputs": []
    }
  ]
}